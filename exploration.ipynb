{
 "cells": [
  {
   "cell_type": "code",
   "execution_count": 45,
   "metadata": {},
   "outputs": [],
   "source": [
    "import os\n",
    "import pandas as pd"
   ]
  },
  {
   "cell_type": "code",
   "execution_count": 46,
   "metadata": {},
   "outputs": [],
   "source": [
    "df = pd.read_csv('./data/cleaned.csv', sep=';')"
   ]
  },
  {
   "cell_type": "code",
   "execution_count": 47,
   "metadata": {},
   "outputs": [
    {
     "data": {
      "text/plain": [
       "Index(['ETABLISSEMENT_Type', 'ETABLISSEMENT_Nom', 'FORMATION_Nom',\n",
       "       'FORMATION_Domaine', 'FORMATION_Specialite', 'FORMATION_Descriptif',\n",
       "       'FORMATION_Niveau_de_diplme_lentree',\n",
       "       'FORMATION_Niveau_de_diplme_en_sortie', 'FORMATION_Duree_en_annees',\n",
       "       'FORMATION_Total_ECTS',\n",
       "       'UNITE_DE_VALEUR_COURS_Questions_ENV_au_sens_large_evoquees_oui_non',\n",
       "       'UNITE_DE_VALEUR_COURS_Enjeux_transition_energetiqueclimat_abordes_oui_non',\n",
       "       'UNITE_DE_VALEUR_COURS_Nom_du_cours',\n",
       "       'UNITE_DE_VALEUR_COURS_Cours_optionnel_ou_obligatoire',\n",
       "       'UNITE_DE_VALEUR_COURS_Duree_du_cours_en_nombre_dheures',\n",
       "       'UNITE_DE_VALEUR_COURS_Formation_initiale_ou_continue'],\n",
       "      dtype='object')"
      ]
     },
     "execution_count": 47,
     "metadata": {},
     "output_type": "execute_result"
    }
   ],
   "source": [
    "df.columns"
   ]
  },
  {
   "cell_type": "code",
   "execution_count": 102,
   "metadata": {},
   "outputs": [
    {
     "name": "stdout",
     "output_type": "stream",
     "text": [
      "proportion de formation traitant d'environement par ecole de formation \n",
      " {'AgroParisTech': 0.8235294117647058, 'CELSA': 0.19230769230769232, 'Centrale_Nantes': 0.972972972972973, 'Centrale_Supelec': 0.6, 'EDHEC': 0.1, 'ENSAE': 0.14285714285714285, 'ESCP_Europe': 0.375, 'ESJ_Lille': 0.2857142857142857, 'ESPCI_Paris': 0.42857142857142855, 'ESSEC': 0.37037037037037035, 'Ecole_Nationale_dAdministration_ENA': 0.16363636363636364, 'Ecole_Nationale_des_Travaux_Publics_de_lEtat_ENTPE': 0.375, 'Ecole_de_Management_de_Lyon': 0.46153846153846156, 'Grenoble_Ecole_de_Management': 0.15217391304347827, 'IRA_BASTIA': 1.0, 'ISAESupaero': 0.18518518518518517, 'Mines_Nancy': 0.30303030303030304, 'Mines_de_Paris': 0.41935483870967744, 'Polytechnique': 0.39655172413793105, 'Ponts_ParisTech': 0.3333333333333333, 'Sciences_Po_Strasbourg': 0.37037037037037035, 'Universite_ParisDauphine': 0.23809523809523808, 'Universite_Technologique_de_Compiegne': 0.36363636363636365, 'Universite_de_Strasbourg': 0.11702127659574468} \n",
      "\n",
      "proportion de formation traitant de transition par ecole de formation \n",
      " {'AgroParisTech': 0.5294117647058824, 'CELSA': 0.8461538461538461, 'Centrale_Nantes': 0.05405405405405406, 'Centrale_Supelec': 0.2, 'EDHEC': 0.03333333333333333, 'ENSAE': 0.8571428571428571, 'ESCP_Europe': 0.125, 'ESJ_Lille': 0.5714285714285714, 'ESPCI_Paris': 0.14285714285714285, 'ESSEC': 0.037037037037037035, 'Ecole_Nationale_dAdministration_ENA': 0.07272727272727272, 'Ecole_Nationale_des_Travaux_Publics_de_lEtat_ENTPE': 0.75, 'Ecole_de_Management_de_Lyon': 1.0, 'Grenoble_Ecole_de_Management': 0.4782608695652174, 'IRA_BASTIA': 9.0, 'ISAESupaero': 0.1111111111111111, 'Mines_Nancy': 0.2727272727272727, 'Mines_de_Paris': 0.06451612903225806, 'Polytechnique': 0.10344827586206896} \n",
      "\n"
     ]
    }
   ],
   "source": [
    "dict_ecole_formation_total = dict(df.groupby('ETABLISSEMENT_Nom').FORMATION_Nom.unique())\n",
    "\n",
    "dict_ecole_formation_ENV = dict(\n",
    "    df[df.UNITE_DE_VALEUR_COURS_Questions_ENV_au_sens_large_evoquees_oui_non == 'oui'].groupby(\n",
    "        'ETABLISSEMENT_Nom').FORMATION_Nom.unique())\n",
    "\n",
    "dict_ecole_formation_TRANS = dict(\n",
    "    df[df.UNITE_DE_VALEUR_COURS_Enjeux_transition_energetiqueclimat_abordes_oui_non == 'oui'].groupby(\n",
    "        'ETABLISSEMENT_Nom').FORMATION_Nom.unique())\n",
    "\n",
    "dict_ecole_ratio_ENV = {ecole: len(list_formation_ENV) / len(list_formation_total) for\n",
    "                            (ecole, list_formation_ENV), (ecole, list_formation_total)\n",
    "                            in zip(dict_ecole_formation_ENV.items(), dict_ecole_fomation_total.items())}\n",
    "\n",
    "dict_ecole_ratio_TRANS = {ecole: len(list_formation_TRANS) / len(list_formation_total) for\n",
    "                            (ecole, list_formation_TRANS), (ecole, list_formation_total)\n",
    "                            in zip(dict_ecole_formation_TRANS.items(), dict_ecole_fomation_total.items())}\n",
    "\n",
    "print(\"proportion de formation traitant d'environement par ecole de formation \\n\", dict_ecole_ratio_ENV, '\\n')\n",
    "print(\"proportion de formation traitant de transition par ecole de formation \\n\", dict_ecole_ratio_TRANS, '\\n')"
   ]
  },
  {
   "cell_type": "code",
   "execution_count": 103,
   "metadata": {},
   "outputs": [],
   "source": [
    "dict_ecole_formation_total_len = {ecole: len(list_formation) for ecole, list_formation in \n",
    "                                dict_ecole_formation_total.items()}\n",
    "\n",
    "dict_ecole_formation_ENV_len = {ecole: len(list_formation) for ecole, list_formation in \n",
    "                                dict_ecole_formation_ENV.items()}"
   ]
  },
  {
   "cell_type": "code",
   "execution_count": 100,
   "metadata": {},
   "outputs": [
    {
     "data": {
      "text/plain": [
       "{'AgroParisTech': 14,\n",
       " 'CELSA': 5,\n",
       " 'Centrale_Nantes': 36,\n",
       " 'Centrale_Supelec': 3,\n",
       " 'EDHEC': 3,\n",
       " 'ENSAE': 1,\n",
       " 'ESCP_Europe': 6,\n",
       " 'ESJ_Lille': 2,\n",
       " 'ESPCI_Paris': 6,\n",
       " 'ESSEC': 10,\n",
       " 'Ecole_Nationale_dAdministration_ENA': 9,\n",
       " 'Ecole_Nationale_des_Travaux_Publics_de_lEtat_ENTPE': 3,\n",
       " 'Ecole_de_Management_de_Lyon': 6,\n",
       " 'Grenoble_Ecole_de_Management': 7,\n",
       " 'IRA_BASTIA': 1,\n",
       " 'ISAESupaero': 5,\n",
       " 'Mines_Nancy': 10,\n",
       " 'Mines_de_Paris': 13,\n",
       " 'Polytechnique': 23,\n",
       " 'Ponts_ParisTech': 13,\n",
       " 'Sciences_Po_Strasbourg': 10,\n",
       " 'Universite_ParisDauphine': 40,\n",
       " 'Universite_Technologique_de_Compiegne': 8,\n",
       " 'Universite_de_Strasbourg': 55}"
      ]
     },
     "execution_count": 100,
     "metadata": {},
     "output_type": "execute_result"
    }
   ],
   "source": [
    "dict_ecole_formation_ENV_len"
   ]
  },
  {
   "cell_type": "code",
   "execution_count": 104,
   "metadata": {},
   "outputs": [
    {
     "data": {
      "text/plain": [
       "{'AgroParisTech': 17,\n",
       " 'CELSA': 26,\n",
       " 'Centrale_Nantes': 37,\n",
       " 'Centrale_Supelec': 5,\n",
       " 'EDHEC': 30,\n",
       " 'ENSAE': 7,\n",
       " 'ESCP_Europe': 16,\n",
       " 'ESJ_Lille': 7,\n",
       " 'ESPCI_Paris': 14,\n",
       " 'ESSEC': 27,\n",
       " 'Ecole_Nationale_dAdministration_ENA': 55,\n",
       " 'Ecole_Nationale_des_Travaux_Publics_de_lEtat_ENTPE': 8,\n",
       " 'Ecole_de_Management_de_Lyon': 13,\n",
       " 'Grenoble_Ecole_de_Management': 46,\n",
       " 'IRA_BASTIA': 1,\n",
       " 'ISAESupaero': 27,\n",
       " 'Mines_Nancy': 33,\n",
       " 'Mines_de_Paris': 31,\n",
       " 'Polytechnique': 58,\n",
       " 'Ponts_ParisTech': 39,\n",
       " 'Sciences_Po_Strasbourg': 27,\n",
       " 'Universite_ParisDauphine': 168,\n",
       " 'Universite_Technologique_de_Compiegne': 22,\n",
       " 'Universite_de_Strasbourg': 470}"
      ]
     },
     "execution_count": 104,
     "metadata": {},
     "output_type": "execute_result"
    }
   ],
   "source": [
    "dict_ecole_formation_total_len"
   ]
  },
  {
   "cell_type": "code",
   "execution_count": 114,
   "metadata": {},
   "outputs": [
    {
     "data": {
      "text/plain": [
       "'Formation_des_Attaches_dadministration_de_ltat_avant_prise_de_poste'"
      ]
     },
     "execution_count": 114,
     "metadata": {},
     "output_type": "execute_result"
    }
   ],
   "source": [
    "df[df.ETABLISSEMENT_Nom=='IRA_BASTIA']['FORMATION_Descriptif'][69]"
   ]
  },
  {
   "cell_type": "code",
   "execution_count": null,
   "metadata": {},
   "outputs": [],
   "source": []
  }
 ],
 "metadata": {
  "kernelspec": {
   "display_name": "Python 3",
   "language": "python",
   "name": "python3"
  },
  "language_info": {
   "codemirror_mode": {
    "name": "ipython",
    "version": 3
   },
   "file_extension": ".py",
   "mimetype": "text/x-python",
   "name": "python",
   "nbconvert_exporter": "python",
   "pygments_lexer": "ipython3",
   "version": "3.6.5"
  }
 },
 "nbformat": 4,
 "nbformat_minor": 2
}
